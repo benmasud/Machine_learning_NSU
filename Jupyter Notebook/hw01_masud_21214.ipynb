{
 "cells": [
  {
   "cell_type": "code",
   "execution_count": 9,
   "metadata": {},
   "outputs": [],
   "source": [
    "import numpy as np "
   ]
  },
  {
   "cell_type": "markdown",
   "metadata": {},
   "source": [
    "Задание 1.<br> Напишите функцию, принимающую два массива произвольных размерностей и возвращающую True тогда и только тогда, когда эти два массива поэлементно равны"
   ]
  },
  {
   "cell_type": "markdown",
   "metadata": {},
   "source": [
    "[En] Task 1.<br> Write a function that accepts two arrays of arbitrary dimensions and returns True if and only if these two arrays are element-wise equal"
   ]
  },
  {
   "cell_type": "code",
   "execution_count": 10,
   "metadata": {},
   "outputs": [],
   "source": [
    "def task1(x,y):\n",
    "    x=np.array(x)\n",
    "    y=np.array(y)\n",
    "\n",
    "    if x.shape != y.shape:\n",
    "        return False\n",
    "    \n",
    "    result = np.all(x==y)\n",
    "    return result\n"
   ]
  },
  {
   "cell_type": "markdown",
   "metadata": {},
   "source": [
    "Задание 2.<br> Напишите функцию, которая принимает на вход двумерный массив (это условие можно не проверять), и возврщает массис, в котором каждый элемент исходного массива поделен на сумму модулей элементов его строки."
   ]
  },
  {
   "cell_type": "markdown",
   "metadata": {},
   "source": [
    "[En]Task 2.<br> Write a function that takes a two-dimensional array as input (this condition does not need to be checked), and returns an array in which each element of the original array is divided by the sum of the modules of the elements of its row."
   ]
  },
  {
   "cell_type": "code",
   "execution_count": 11,
   "metadata": {},
   "outputs": [],
   "source": [
    "def task2(x):\n",
    "    x = np.array(x)\n",
    "\n",
    "    row_sums = np.sum(np.abs(x), axis=1, keepdims=True)\n",
    "    result = x/row_sums\n",
    "\n",
    "    return result\n",
    "\n"
   ]
  },
  {
   "cell_type": "code",
   "execution_count": 12,
   "metadata": {},
   "outputs": [
    {
     "name": "stdout",
     "output_type": "stream",
     "text": [
      "[[ 0.5        -0.5       ]\n",
      " [ 0.33333333  0.66666667]]\n"
     ]
    }
   ],
   "source": [
    "input_array = np.array([[1, -1], [2, 4]])\n",
    "output_array = task2(input_array)\n",
    "print(output_array)"
   ]
  },
  {
   "attachments": {
    "image-2.png": {
     "image/png": "[encoded data removed]"
    },
    "image.png": {
     "image/png": "[encoded data removed]"
    }
   },
   "cell_type": "markdown",
   "metadata": {},
   "source": [
    "Задание 3 <br> Напишите функцию, которая принимает на вход одномреный массив и возвращает матрицу Вандермонда для элемментов этого массива. Напомним, что матрицей Вандермонда для элементов ![image.png](attachment:image.png)\n",
    " называется квадратная матрица порядка \n",
    ", имеющая следующий вид <br>\n",
    "![image-2.png](attachment:image-2.png)\n",
    "\n",
    "Важно: в этом задании запрещено использовать встроенную функцию np.vander И код из нее тоже не надо копировать и даже творчески переписывать не стоит, для решения достаточно функций, показанных на семинаре\n"
   ]
  },
  {
   "attachments": {
    "image-2.png": {
     "image/png": "[encoded data removed]"
    },
    "image.png": {
     "image/png": "[encoded data removed]"
    }
   },
   "cell_type": "markdown",
   "metadata": {},
   "source": [
    "[En]Task 3 <br> Write a function that takes a one-dimensional array as input and returns the Vandermonde matrix for the elements of this array. Recall that the Vandermonde matrix for elements is![image.png](attachment:image.png)\n",
    "  is called a square matrix of order\n",
    ", having the following form <br>\n",
    "![image-2.png](attachment:image-2.png)\n",
    "\n",
    "Important: in this task it is forbidden to use the built-in function np.vander. And the code from it also should not be copied and even creatively rewritten, the functions shown at the seminar are sufficient for the solution"
   ]
  },
  {
   "cell_type": "code",
   "execution_count": 20,
   "metadata": {},
   "outputs": [],
   "source": [
    "def task3(elements):\n",
    "    n = len(elements)\n",
    "    result = np.zeros((n, n))\n",
    "    \n",
    "    for i in range(n):\n",
    "        powers = [elements[i]**j for j in range(n)]\n",
    "        result[i, :] = powers\n",
    "    \n",
    "    return result"
   ]
  },
  {
   "cell_type": "code",
   "execution_count": 21,
   "metadata": {},
   "outputs": [
    {
     "name": "stdout",
     "output_type": "stream",
     "text": [
      "[[  1.   1.   1.   1.   1.]\n",
      " [  1.   2.   4.   8.  16.]\n",
      " [  1.   3.   9.  27.  81.]\n",
      " [  1.   4.  16.  64. 256.]\n",
      " [  1.   5.  25. 125. 625.]]\n"
     ]
    }
   ],
   "source": [
    "input_elements = np.array([1, 2, 3, 4, 5])\n",
    "vander_matrix = task3(input_elements)\n",
    "print(vander_matrix)"
   ]
  },
  {
   "cell_type": "markdown",
   "metadata": {},
   "source": [
    "Задание 4. <br>Напишите функцию, которая принимает на вход массив и возвращает новый массив, который получен из аргмента заменой всех отрицательных элементов на среднее значение всех положительных элементов исходного массива"
   ]
  },
  {
   "cell_type": "markdown",
   "metadata": {},
   "source": [
    "[En]Task 4. <br>Write a function that takes an array as input and returns a new array, which is obtained from the argument by replacing all negative elements with the average value of all positive elements of the original array"
   ]
  },
  {
   "cell_type": "code",
   "execution_count": 22,
   "metadata": {},
   "outputs": [],
   "source": [
    "def task4(ar):\n",
    "    positive_elements = ar[ar>0]\n",
    "\n",
    "    if len(positive_elements)>0:\n",
    "        avg_positive = np.mean(positive_elements)\n",
    "    else:\n",
    "        avg_positive = 0\n",
    "\n",
    "    result = np.where(ar<0, avg_positive, ar)\n",
    "    return result    \n"
   ]
  },
  {
   "cell_type": "code",
   "execution_count": 24,
   "metadata": {},
   "outputs": [
    {
     "name": "stdout",
     "output_type": "stream",
     "text": [
      "[3. 2. 3. 3. 4. 3. 3.]\n"
     ]
    }
   ],
   "source": [
    "input_array = np.array([-1, 2,-2, -3, 4,-4, -5])\n",
    "output_array =task4(input_array)\n",
    "print(output_array)"
   ]
  }
 ],
 "metadata": {
  "kernelspec": {
   "display_name": "Python 3",
   "language": "python",
   "name": "python3"
  },
  "language_info": {
   "codemirror_mode": {
    "name": "ipython",
    "version": 3
   },
   "file_extension": ".py",
   "mimetype": "text/x-python",
   "name": "python",
   "nbconvert_exporter": "python",
   "pygments_lexer": "ipython3",
   "version": "3.10.11"
  },
  "orig_nbformat": 4
 },
 "nbformat": 4,
 "nbformat_minor": 2
}
